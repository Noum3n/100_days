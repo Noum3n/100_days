{
  "nbformat": 4,
  "nbformat_minor": 0,
  "metadata": {
    "colab": {
      "name": "pass_gen.ipynb",
      "provenance": [],
      "collapsed_sections": [],
      "authorship_tag": "ABX9TyMQMdsL3k+vsFcjrusDX7Va",
      "include_colab_link": true
    },
    "kernelspec": {
      "name": "python3",
      "display_name": "Python 3"
    }
  },
  "cells": [
    {
      "cell_type": "markdown",
      "metadata": {
        "id": "view-in-github",
        "colab_type": "text"
      },
      "source": [
        "<a href=\"https://colab.research.google.com/github/Noum3n/100_days/blob/main/day_5/pass_gen.ipynb\" target=\"_parent\"><img src=\"https://colab.research.google.com/assets/colab-badge.svg\" alt=\"Open In Colab\"/></a>"
      ]
    },
    {
      "cell_type": "code",
      "metadata": {
        "colab": {
          "base_uri": "https://localhost:8080/"
        },
        "id": "coox_GEzeR4i",
        "outputId": "2635479b-52c0-4d11-e928-79a74905bc3e"
      },
      "source": [
        "#Password Generator Project\n",
        "import random\n",
        "letters = ['a', 'b', 'c', 'd', 'e', 'f', 'g', 'h', 'i', 'j', 'k', 'l', 'm', 'n', 'o', 'p', 'q', 'r', 's', 't', 'u', 'v', 'w', 'x', 'y', 'z', 'A', 'B', 'C', 'D', 'E', 'F', 'G', 'H', 'I', 'J', 'K', 'L', 'M', 'N', 'O', 'P', 'Q', 'R', 'S', 'T', 'U', 'V', 'W', 'X', 'Y', 'Z']\n",
        "numbers = ['0', '1', '2', '3', '4', '5', '6', '7', '8', '9']\n",
        "symbols = ['!', '#', '$', '%', '&', '(', ')', '*', '+']\n",
        "\n",
        "print(\"Welcome to the PyPassword Generator!\")\n",
        "nr_letters= int(input(\"How many letters would you like in your password?\\n\")) \n",
        "nr_symbols = int(input(f\"How many symbols would you like?\\n\"))\n",
        "nr_numbers = int(input(f\"How many numbers would you like?\\n\"))\n",
        "\n",
        "password_list = []\n",
        "for char in range(1, nr_letters + 1):\n",
        "  password_list.append(random.choice(letters))\n",
        "for char in range(1, nr_symbols + 1):\n",
        "  password_list.append(random.choice(symbols))\n",
        "for char in range(1, nr_numbers + 1):\n",
        "  password_list += random.choice(numbers)\n",
        "\n",
        "random.shuffle(password_list)\n",
        "\n",
        "password = \"\"\n",
        "for char in password_list:\n",
        "  password += char\n",
        "print(f\"Your password is: {password}\")\n",
        "\n"
      ],
      "execution_count": 1,
      "outputs": [
        {
          "output_type": "stream",
          "text": [
            "Welcome to the PyPassword Generator!\n",
            "How many letters would you like in your password?\n",
            "3\n",
            "How many symbols would you like?\n",
            "3\n",
            "How many numbers would you like?\n",
            "3\n",
            "Your password is: g&eV#46)2\n"
          ],
          "name": "stdout"
        }
      ]
    }
  ]
}